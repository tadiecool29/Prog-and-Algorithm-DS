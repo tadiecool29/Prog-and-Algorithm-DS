{
 "cells": [
  {
   "cell_type": "markdown",
   "id": "5aab951d",
   "metadata": {},
   "source": [
    "### Matrix Chain Product Algorithm Using DP and Greedy Method"
   ]
  },
  {
   "cell_type": "raw",
   "id": "6b919d20",
   "metadata": {},
   "source": [
    "Create a list matrices, where each element is a tuple representing the dimensions of a matrix.\n",
    "Initialize total_cost to keep track of the total scalar multiplications.\n",
    "For every pair of adjacent matrices in matrices, calculate the immediate cost of multiplying them.\n",
    "Select the pair with the minimum cost (greedy choice).\n",
    "Merge these two matrices into one, updating their dimensions.\n",
    "we initialize the cost of matrix multiplication to the maximum possible value (sys.maxsize) to ensure that any valid computed cost will be smaller than this initial value.\n"
   ]
  },
  {
   "cell_type": "markdown",
   "id": "f22abbc3",
   "metadata": {},
   "source": [
    "### Matrix Chain Multiplication implemented in Greedy Approach"
   ]
  },
  {
   "cell_type": "code",
   "execution_count": 1,
   "id": "81d64914",
   "metadata": {},
   "outputs": [],
   "source": [
    "def matrix_chain_greedy(p):\n",
    "    n = len(p) - 1  # Number of matrices\n",
    "    matrices = [(p[i], p[i + 1]) for i in range(n)]  # Create list of matrix dimensions as pairs\n",
    "    total_cost = 0\n",
    "    iterations = 0  # To track the number of iterations\n",
    "\n",
    "    while len(matrices) > 1:\n",
    "        iterations += 1\n",
    "        # Find the split with the minimum immediate cost\n",
    "        min_cost = sys.maxsize\n",
    "        min_index = -1\n",
    "        for i in range(len(matrices) - 1):\n",
    "            # Calculate cost for multiplying matrices[i] and matrices[i + 1]\n",
    "            cost = matrices[i][0] * matrices[i][1] * matrices[i + 1][1]\n",
    "            if cost < min_cost:\n",
    "                min_cost = cost\n",
    "                min_index = i\n",
    "\n",
    "        # Merge the two matrices at the selected split\n",
    "        total_cost += min_cost\n",
    "        new_matrix = (matrices[min_index][0], matrices[min_index + 1][1])\n",
    "        matrices[min_index] = new_matrix  # Replace the first matrix with the merged one\n",
    "        matrices.pop(min_index + 1)  # Remove the second matrix\n",
    "\n",
    "    return total_cost, iterations  # Return both the total cost and the number of iterations\n"
   ]
  },
  {
   "cell_type": "markdown",
   "id": "dd484bd6",
   "metadata": {},
   "source": [
    "### Dynamic Programming implementation"
   ]
  },
  {
   "cell_type": "code",
   "execution_count": 2,
   "id": "f715a39e",
   "metadata": {},
   "outputs": [],
   "source": [
    "def matrix_chain_dp(p):\n",
    "    n = len(p) - 1\n",
    "    m = [[0] * n for _ in range(n)]  # Initialize DP table\n",
    "\n",
    "    for L in range(2, n + 1):  # L is the chain length\n",
    "        for i in range(n - L + 1):\n",
    "            j = i + L - 1\n",
    "            m[i][j] = sys.maxsize\n",
    "            for k in range(i, j):\n",
    "                cost = m[i][k] + m[k + 1][j] + p[i] * p[k + 1] * p[j + 1]\n",
    "                if cost < m[i][j]:\n",
    "                    m[i][j] = cost\n",
    "\n",
    "    return m[0][n - 1], m  # Return both the minimum cost and the DP table"
   ]
  },
  {
   "cell_type": "code",
   "execution_count": 3,
   "id": "60381ea1",
   "metadata": {},
   "outputs": [],
   "source": [
    "# Comparing the two approaches\n",
    "dimensions = [10, 20, 30, 40, 50, 60, 70, 80, 90, 100, 110, 120, 130, 140, 150, 160]  # Example dimensions"
   ]
  },
  {
   "cell_type": "markdown",
   "id": "55ed8afb",
   "metadata": {},
   "source": [
    "#### Time and Space Complexity of Greedy Approach "
   ]
  },
  {
   "cell_type": "code",
   "execution_count": 6,
   "id": "734cf163",
   "metadata": {},
   "outputs": [
    {
     "name": "stdout",
     "output_type": "stream",
     "text": [
      "Total cost: 1358000\n",
      "Number of iterations: 14\n",
      "Execution time: 0.000000 seconds\n",
      "Estimated space complexity: 1080 bytes\n"
     ]
    }
   ],
   "source": [
    "import time\n",
    "import sys\n",
    "def analyze_greedy_complexity():\n",
    "    n = len(dimensions) - 1  # Number of matrices\n",
    "\n",
    "    # Measure execution time\n",
    "    start_time = time.time()\n",
    "    total_cost, iterations = matrix_chain_greedy(dimensions)  # Correctly unpack the returned values\n",
    "    end_time = time.time()\n",
    "\n",
    "    # Calculate time complexity\n",
    "    execution_time = end_time - start_time\n",
    "\n",
    "    # Space complexity estimation\n",
    "    space_for_matrices = n * 2 * sys.getsizeof(dimensions[0])  # Storage for matrix dimensions\n",
    "    space_for_vars = sys.getsizeof(total_cost) + sys.getsizeof(iterations) + sys.getsizeof(dimensions)\n",
    "    total_space = space_for_matrices + space_for_vars\n",
    "\n",
    "    # Print results\n",
    "    print(f\"Total cost: {total_cost}\")\n",
    "    print(f\"Number of iterations: {iterations}\")\n",
    "    print(f\"Execution time: {execution_time:.6f} seconds\")\n",
    "    print(f\"Estimated space complexity: {total_space} bytes\")\n",
    "\n",
    "\n",
    "# Run analysis\n",
    "analyze_greedy_complexity()\n"
   ]
  },
  {
   "cell_type": "markdown",
   "id": "79fc861c",
   "metadata": {},
   "source": [
    "#### Time and Space Complexity of DP Approach "
   ]
  },
  {
   "cell_type": "code",
   "execution_count": 7,
   "id": "b3169e28",
   "metadata": {},
   "outputs": [
    {
     "name": "stdout",
     "output_type": "stream",
     "text": [
      "Total cost: 1358000\n",
      "Execution time: 0.000000 seconds\n",
      "Estimated space complexity: 3036 bytes\n",
      "DP Table Size: 15 x 15 = 225 cells\n"
     ]
    }
   ],
   "source": [
    "import time\n",
    "import sys\n",
    "def analyze_dp_complexity():\n",
    "    n = len(dimensions) - 1\n",
    "\n",
    "    # Measure execution time\n",
    "    start_time = time.time()\n",
    "    total_cost, dp_table = matrix_chain_dp(dimensions)\n",
    "    end_time = time.time()\n",
    "\n",
    "    # Calculate time complexity\n",
    "    execution_time = end_time - start_time\n",
    "\n",
    "    # Space complexity estimation\n",
    "    space_for_dp_table = sum([sys.getsizeof(row) for row in dp_table])  # DP table space\n",
    "    space_for_vars = sys.getsizeof(total_cost) + sys.getsizeof(dp_table) + sys.getsizeof(dimensions)\n",
    "    total_space = space_for_dp_table + space_for_vars\n",
    "\n",
    "    # Print results\n",
    "    print(f\"Total cost: {total_cost}\")\n",
    "    print(f\"Execution time: {execution_time:.6f} seconds\")\n",
    "    print(f\"Estimated space complexity: {total_space} bytes\")\n",
    "    print(f\"DP Table Size: {n} x {n} = {n * n} cells\")\n",
    "\n",
    "\n",
    "# Run analysis\n",
    "analyze_dp_complexity()"
   ]
  },
  {
   "cell_type": "markdown",
   "id": "ac509137",
   "metadata": {},
   "source": [
    "##### Conclusion \n",
    "The greedy algorithm makes a local optimal choice at each step, aiming to minimize the immediate cost of multiplying two matrices.\n",
    "It does not guarantee the global optimal solution because it ignores the long-term impact of each choice.\n",
    "\n",
    "The DP algorithm considers all possible ways of parenthesizing the matrices and calculates the global optimal solution.\n",
    "It guarantees the minimum cost of scalar multiplications.\n",
    "\n",
    "Time Complexity\n",
    "Greedy Approach:\n",
    "Time complexity is 𝑂(𝑛^2), where 𝑛 is the number of matrices.\n",
    "Dynamic Programming:\n",
    "Time complexity is 𝑂(𝑛^3) due to the three nested loops\n",
    "\n",
    "Space Complexity\n",
    "Greedy Approach:\n",
    "Space complexity is O(n), as it stores only the list of matrix dimensions and updates it during the process.\n",
    "Dynamic Programming:\n",
    "Space complexity is O(n^2) because it uses a 2D DP table to store the minimum costs for every subproblem.\n",
    "\n",
    "The Dynamic Programming approach is the clear choice when optimal solutions are required, despite its higher computational cost.\n",
    "The Greedy Approach is useful in time-sensitive applications where approximate results are acceptable."
   ]
  },
  {
   "cell_type": "code",
   "execution_count": null,
   "id": "03fd51d2",
   "metadata": {},
   "outputs": [],
   "source": []
  }
 ],
 "metadata": {
  "kernelspec": {
   "display_name": "Python 3 (ipykernel)",
   "language": "python",
   "name": "python3"
  },
  "language_info": {
   "codemirror_mode": {
    "name": "ipython",
    "version": 3
   },
   "file_extension": ".py",
   "mimetype": "text/x-python",
   "name": "python",
   "nbconvert_exporter": "python",
   "pygments_lexer": "ipython3",
   "version": "3.11.7"
  }
 },
 "nbformat": 4,
 "nbformat_minor": 5
}
