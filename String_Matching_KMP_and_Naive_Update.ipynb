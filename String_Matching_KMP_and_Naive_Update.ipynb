{
 "cells": [
  {
   "cell_type": "markdown",
   "id": "de3f30cf",
   "metadata": {},
   "source": [
    "Imports pandas for data manipulation and analysis, especially useful for working with tabular data (data structured in rows and columns, similar to a spreadsheet or SQL table).\n",
    "\n",
    "Imports the time module, which provides various functions to measure and work with time in Python. Here, it’s likely being used to compare the execution times of two algorithms by recording start and end times around each algorithm.\n",
    "\n",
    "mports the profile decorator from the memory_profiler library. The profile decorator is used to monitor the memory usage of specific functions. This can help measure and compare the memory usage of two algorithms.\n",
    "\n",
    "%load_ext memory_profiler is a Jupyter Notebook magic command that loads the memory_profiler extension into the current notebook session.\n",
    "This allows you to use the @profile decorator in the notebook to measure memory usage directly without needing to run the profiler as a separate command."
   ]
  },
  {
   "cell_type": "code",
   "execution_count": 1,
   "id": "6eb72d69-3d6d-4290-a34d-3e5bfb5acb59",
   "metadata": {},
   "outputs": [],
   "source": [
    "import pandas as pd\n",
    "import matplotlib.pyplot as plt"
   ]
  },
  {
   "cell_type": "code",
   "execution_count": 2,
   "id": "235eae14-be12-43b1-9a57-35e68f8a0e1c",
   "metadata": {},
   "outputs": [],
   "source": [
    "import time # to compare the time the two algorithms taken\n",
    "from memory_profiler import profile\n",
    "%load_ext memory_profiler"
   ]
  },
  {
   "cell_type": "markdown",
   "id": "17c88047-26aa-4288-80bd-a2365edf4400",
   "metadata": {},
   "source": [
    "### 1. KMP Algorithm (Knuth-Morris-Pratt pattern matching algorithm)"
   ]
  },
  {
   "cell_type": "markdown",
   "id": "73284367",
   "metadata": {},
   "source": [
    "compute_lps(pattern): This function computes the Longest Prefix Suffix (LPS) array for the given pattern. \n",
    "The LPS array helps in determining how much to shift the pattern upon a mismatch, allowing the KMP algorithm to avoid redundant comparisons.\n",
    "    lps[i] stores the length of the longest prefix that is also a suffix for the substring ending at index i.\n",
    "    j is used to track the length of the current prefix that matches the suffix.\n",
    "    \n",
    "Main KMP Search:\n",
    "    The KMP function uses the lps array to search for occurrences of pattern in text.\n",
    "    Two indices, i for text and j for pattern, are used to iterate and match characters.\n",
    "    When j equals the length of the pattern, it means a match has been found, and \n",
    "    the starting index of the match (i - j) is added to matches.\n",
    "    If a mismatch occurs and j is not zero, j is updated using the lps array to skip unnecessary characters.\n"
   ]
  },
  {
   "cell_type": "raw",
   "id": "7b650a29",
   "metadata": {},
   "source": [
    "Defines a function KMP to search for all occurrences of pattern within text. This function returns a list of starting indices where pattern is found in text"
   ]
  },
  {
   "cell_type": "raw",
   "id": "176a2e6e",
   "metadata": {},
   "source": [
    "Defines an internal function compute_lps to compute the Longest Prefix Suffix (LPS) array for the pattern. \n",
    "Initializes the lps array with zeroes, with the same length as pattern."
   ]
  },
  {
   "cell_type": "code",
   "execution_count": 3,
   "id": "5fb90f5b-1bce-4f62-8236-a56183302ab8",
   "metadata": {},
   "outputs": [],
   "source": [
    "def KMP(pattern, text):\n",
    "    def compute_lps(pattern):\n",
    "        lps = [0] * len(pattern)\n",
    "        j = 0 #Sets j = 0, a pointer to keep track of the length of the current matching prefix in the pattern\n",
    "        # Starts a loop from the second character (i = 1) in pattern to build the LPS array by comparing characters in the pattern\n",
    "        for i in range(1, len(pattern)):\n",
    "            # If pattern[i] matches pattern[j], increment j (extending the length of the matching prefix) and set lps[i] = j. \n",
    "            #This means the length of the longest prefix that is also a suffix at position i is j.\n",
    "            if pattern[i] == pattern[j]:\n",
    "                j += 1\n",
    "                lps[i] = j\n",
    "            else: # If there’s a mismatch and j is not zero (indicating that a partial match exists up to this point), \n",
    "                #update j to the previous longest prefix-suffix length lps[j - 1]. i -= 1 is used to retry the current character with the updated j\n",
    "                if j != 0:\n",
    "                    j = lps[j - 1]\n",
    "                    i -= 1\n",
    "                else: #If j is zero (no matching prefix suffix exists up to this point), \n",
    "                    #set lps[i] = 0, meaning there's no prefix-suffix match for this position\n",
    "                    lps[i] = 0\n",
    "        return lps # Returns the completed lps array\n",
    "\n",
    "    lps = compute_lps(pattern) #Computes the lps array for the pattern by calling compute_lps\n",
    "    #Initializes pointers i and j to zero, where i tracks the position in the text and j tracks the position in the pattern. \n",
    "    #matches is initialized as an empty list to store the starting indices of pattern matches in text\n",
    "    i = j = 0\n",
    "    matches = []\n",
    "    while i < len(text): #Starts a loop that runs until the end of text is reached\n",
    "        # If pattern[j] matches text[i], both i and j are incremented to continue matching the next characters\n",
    "        if pattern[j] == text[i]:\n",
    "            i += 1\n",
    "            j += 1\n",
    "        # If j equals len(pattern), it means a complete match for pattern has been found in text. \n",
    "        #Append the starting index of the match, i - j, to matches. \n",
    "        #Then, set j = lps[j - 1] to prepare for any subsequent potential matches without rechecking already matched characters\n",
    "        if j == len(pattern):\n",
    "            matches.append(i - j)\n",
    "            j = lps[j - 1]\n",
    "        # If there’s a mismatch and i hasn’t reached the end of text, check if j is non-zero. \n",
    "        #If so, set j = lps[j - 1] to skip unnecessary comparisons. \n",
    "        #If j is zero, increment i to check the next position in text.\n",
    "        elif i < len(text) and pattern[j] != text[i]:\n",
    "            if j != 0:\n",
    "                j = lps[j - 1]\n",
    "            else:\n",
    "                i += 1\n",
    "    return matches #return the list matches containing the starting indices of all occurrences of pattern in text\n"
   ]
  },
  {
   "cell_type": "markdown",
   "id": "0e5ec8a6-efc4-4bf5-8ff5-c35594068ac4",
   "metadata": {},
   "source": [
    "### 2. Naive search Algorithm"
   ]
  },
  {
   "cell_type": "code",
   "execution_count": 4,
   "id": "387265a4-b280-4863-8415-a1b5ff3b4601",
   "metadata": {},
   "outputs": [],
   "source": [
    "# Defines a function naive_pattern_match that takes two arguments:\n",
    "    #pattern: the substring to search for.\n",
    "    #text: the string in which to search for the pattern.\n",
    "def naive_pattern_match(pattern, text):\n",
    "    M = len(pattern) #Calculates the lengths of pattern and text, storing them in M and N\n",
    "    N = len(text)\n",
    "    positions = [] #Initializes an empty list positions to store \n",
    "                #the starting indices of each occurrence of the pattern found in the text.\n",
    "\n",
    "    # Loop through the text\n",
    "    #The loop range is N - M + 1 to avoid going out of bounds. \n",
    "    #Here, i represents the current position in text where we start trying to match pattern\n",
    "    for i in range(N - M + 1):\n",
    "        j = 0 #Initializes j = 0, which will be used to track the index within pattern while comparing characters\n",
    "\n",
    "        # Check for match\n",
    "        #This while loop checks each character in pattern against the corresponding character in text starting from position i\n",
    "        #The loop continues as long as j is less than M (the length of pattern) and text[i + j] == pattern[j].\n",
    "            #If the characters match, j is incremented to check the next character.\n",
    "            #If a mismatch occurs, the loop breaks.\n",
    "        while j < M and text[i + j] == pattern[j]:\n",
    "            j += 1\n",
    "        # j equals M, it means that all characters in pattern matched with the substring in text starting at i. \n",
    "        #Thus, the starting index i is appended to positions\n",
    "        if j == M:\n",
    "            positions.append(i)\n",
    "    # Returns the list positions, which contains all starting indices where pattern occurs in text\n",
    "    return positions"
   ]
  },
  {
   "cell_type": "markdown",
   "id": "326c381f",
   "metadata": {},
   "source": [
    "### 3. Load Dataset"
   ]
  },
  {
   "cell_type": "code",
   "execution_count": 5,
   "id": "438d5303-397a-4b81-8b76-96eeb8124208",
   "metadata": {},
   "outputs": [],
   "source": [
    "data = pd.read_csv('data.csv')"
   ]
  },
  {
   "cell_type": "markdown",
   "id": "43422298-2b2d-4be5-afea-bfa515f59fce",
   "metadata": {},
   "source": [
    "##### 3.1 Pattern to be searched"
   ]
  },
  {
   "cell_type": "code",
   "execution_count": 6,
   "id": "11f7823f-cd62-4343-b0f4-3d01d232a99b",
   "metadata": {},
   "outputs": [],
   "source": [
    "pattern = 'ኢትዮጵያ'"
   ]
  },
  {
   "cell_type": "markdown",
   "id": "77eb60fb-508f-42c2-ad65-9ca72b735b91",
   "metadata": {},
   "source": [
    "#### 3.2 Longest common subsequence"
   ]
  },
  {
   "cell_type": "markdown",
   "id": "1030b0b9",
   "metadata": {},
   "source": [
    "LCS that takes two arguments, X and Y, which represent the two sequences (strings or lists) for which we want to find the length of the longest common subsequence.\n",
    "\n",
    "m and n store the lengths of sequences X and Y, respectively. These values will define the dimensions of the matrix L used to store the LCS lengths.\n",
    "\n",
    "Creates a 2D list L of size (m + 1) x (n + 1) with all values initialized to 0. Each cell L[i][j] will eventually contain the length of the LCS of the first i characters of X and the first j characters of Y.\n",
    "\n",
    "Adding an extra row and column (i.e., (m + 1) and (n + 1)) simplifies the handling of boundary conditions where either sequence has no characters.\n",
    "\n",
    "starts a loop over i from 0 to m, inclusive. i represents the length of the subsequence of X being considered.\n",
    "\n",
    "starts an inner loop over j from 0 to n, inclusive. j represents the length of the subsequence of Y being considered.\n",
    "\n",
    "If either i or j is 0, the function sets L[i][j] = 0. This is because an LCS involving an empty sequence (either X[:0] or Y[:0]) has a length of 0.\n",
    "\n",
    "If the characters X[i-1] and Y[j-1] are the same, then they are part of the LCS up to this point. The value of L[i][j] is set to L[i-1][j-1] + 1, meaning we take the LCS length up to the previous characters and add 1 for the matching character.\n",
    "\n",
    "If X[i-1] and Y[j-1] are different, then L[i][j] is set to the maximum of L[i-1][j] and L[i][j-1], representing the LCS found by either ignoring the current character in X or the current character in Y.\n",
    "\n",
    "Finally, the function returns L[m][n], which holds the length of the LCS of X and Y (i.e., the solution for the entire sequences)."
   ]
  },
  {
   "cell_type": "code",
   "execution_count": 7,
   "id": "6339c260-5297-4d01-b8bb-30fdd4eaa530",
   "metadata": {},
   "outputs": [],
   "source": [
    "def LCS(X, Y):\n",
    "    m = len(X)\n",
    "    n = len(Y)\n",
    "    L = [[0] * (n + 1) for i in range(m + 1)]\n",
    "    for i in range(m + 1):\n",
    "        for j in range(n + 1):\n",
    "            if i == 0 or j == 0:\n",
    "                L[i][j] = 0\n",
    "            elif X[i-1] == Y[j-1]:\n",
    "                L[i][j] = L[i-1][j-1] + 1\n",
    "            else:\n",
    "                L[i][j] = max(L[i-1][j], L[i][j-1])\n",
    "    return L[m][n]\n"
   ]
  },
  {
   "cell_type": "code",
   "execution_count": 8,
   "id": "b3b6f691-a11d-4884-9458-314f87ab1d39",
   "metadata": {
    "scrolled": true
   },
   "outputs": [
    {
     "data": {
      "text/plain": [
       "43"
      ]
     },
     "execution_count": 8,
     "metadata": {},
     "output_type": "execute_result"
    }
   ],
   "source": [
    "text1 = \"ከአሰልጣኝ ሰውነት ቢሻው በፊት የኢትዮጵያ ብሄራዊ ቡድንን ለ4 ወራት በጊዜያዊነት ያሰለጠኑት  ቤልጅየማዊው ቶም ሴይንትፌይት ዋልያዎቹን መረከብ እንደሚፈልጉ ለሱፐር ስፖርት ተናግረዋል፡፡\"\n",
    "text2 = \"ከኢትዮጵያ በተጨማሪ በርካታ የአፍሪካ ብሄራዊ ቡድኖችን በማሰልጠናቸው ለአፍሪካ የእግርኳስ ባህል ቅርብ ናቸው፡፡  የ40 አመቱ አሰልጣኝ በኦክቶበር መጨረሻ ከፌዴሬሽኑ ጋር በፈጠሩት አለመግባባት ከዋልያዎቹ ጋር መለያየታቸው  ይታወሳል፡፡\"\n",
    "LCS(text1,text2) ## It tells how many common sequences are there between the two texts (text1 and text2)"
   ]
  },
  {
   "cell_type": "markdown",
   "id": "297f012a",
   "metadata": {},
   "source": [
    "#### 3.3 Checking Patterns founding Index/Indices Using KMP Algorithm\n",
    "Initializes the variable row to 0. This variable will store the index of each row as the code iterates through the rows of data.\n",
    "Starts a loop over each row in data, where i is the index of the current row.\n",
    "len(data) gives the total number of rows in the data DataFrame.\n",
    "\n",
    "Updates the row variable to the current row index i. This line might seem redundant here, but it sets up row for each iteration in case it’s needed outside the for loop scope.\n",
    "\n",
    "Calls the KMP function (Knuth-Morris-Pratt pattern matching algorithm) to find occurrences of the specified pattern in the i-th row of the column named '0' in data.\n",
    "data['0'][i] accesses the value in the column labeled '0' in the i-th row.\n",
    "matches will contain the list of starting indices within the row where pattern was found. If pattern is not found, matches will be an empty list.\n",
    "\n",
    "Checks if matches is non-empty, meaning that at least one match was found in the current row.\n",
    "\n",
    "Prints a message indicating the row where the pattern was found (row) and the indices within the row where it was located (matches). If matches contains multiple indices, they will all be displayed."
   ]
  },
  {
   "cell_type": "code",
   "execution_count": 9,
   "id": "e3f87255-712e-49f7-8c66-549ec3525959",
   "metadata": {},
   "outputs": [
    {
     "name": "stdout",
     "output_type": "stream",
     "text": [
      "Pattern found at row  1 at the following index/indexes  [35, 223, 323, 352, 403, 686, 752, 782, 865, 948, 965, 977, 1266, 1283, 1342, 1414]\n",
      "Pattern found at row  3 at the following index/indexes  [11, 87, 850, 885]\n",
      "Pattern found at row  5 at the following index/indexes  [77, 767, 813]\n",
      "Pattern found at row  6 at the following index/indexes  [49, 182, 268, 328]\n",
      "Pattern found at row  7 at the following index/indexes  [87, 234]\n",
      "Pattern found at row  8 at the following index/indexes  [11, 157, 378, 416, 475, 568, 603]\n",
      "Pattern found at row  10 at the following index/indexes  [32, 169, 1678]\n",
      "Pattern found at row  14 at the following index/indexes  [92, 190]\n",
      "Pattern found at row  15 at the following index/indexes  [22, 103, 429, 475, 638]\n",
      "Pattern found at row  16 at the following index/indexes  [150, 791, 824, 861, 889, 905, 946, 1000, 1056]\n",
      "Pattern found at row  17 at the following index/indexes  [67, 323, 340, 426, 475, 605, 696, 744, 772, 801, 819, 830, 872, 925, 981]\n",
      "Pattern found at row  18 at the following index/indexes  [58]\n",
      "Pattern found at row  19 at the following index/indexes  [48, 95]\n",
      "Pattern found at row  20 at the following index/indexes  [48, 95]\n",
      "Pattern found at row  21 at the following index/indexes  [50]\n",
      "Pattern found at row  22 at the following index/indexes  [50]\n",
      "Pattern found at row  23 at the following index/indexes  [40, 185]\n",
      "Pattern found at row  24 at the following index/indexes  [40, 185]\n",
      "Pattern found at row  25 at the following index/indexes  [106]\n",
      "Pattern found at row  26 at the following index/indexes  [607]\n",
      "Pattern found at row  27 at the following index/indexes  [13, 64, 79, 813]\n",
      "Pattern found at row  28 at the following index/indexes  [12, 103, 142, 165, 350, 765, 824]\n",
      "Pattern found at row  29 at the following index/indexes  [148, 305, 681, 740]\n",
      "Pattern found at row  31 at the following index/indexes  [116]\n",
      "Pattern found at row  33 at the following index/indexes  [15, 65, 104, 199, 418, 472, 722, 779]\n",
      "Pattern found at row  34 at the following index/indexes  [158, 205, 433, 531, 741, 1163, 1183, 1331]\n",
      "Pattern found at row  35 at the following index/indexes  [76, 270, 416, 506, 550]\n",
      "Pattern found at row  36 at the following index/indexes  [1, 624, 770]\n",
      "Pattern found at row  37 at the following index/indexes  [1, 39, 118, 135, 653, 784]\n",
      "Pattern found at row  38 at the following index/indexes  [1, 16, 64, 139, 688, 712, 864, 942]\n",
      "Pattern found at row  39 at the following index/indexes  [146, 281, 512, 630, 730]\n",
      "Pattern found at row  40 at the following index/indexes  [36, 130, 713, 832]\n",
      "Pattern found at row  41 at the following index/indexes  [42, 502]\n",
      "Pattern found at row  42 at the following index/indexes  [7, 73, 196, 3145, 3515, 3637, 3957]\n",
      "Pattern found at row  43 at the following index/indexes  [7, 79, 188, 1237, 1604]\n",
      "Pattern found at row  44 at the following index/indexes  [13]\n",
      "Pattern found at row  45 at the following index/indexes  [93]\n",
      "Pattern found at row  48 at the following index/indexes  [246, 1459]\n",
      "Pattern found at row  51 at the following index/indexes  [0, 75, 169, 240, 295, 636]\n",
      "Pattern found at row  52 at the following index/indexes  [0, 45, 124, 614]\n",
      "Pattern found at row  53 at the following index/indexes  [0, 43, 183, 261, 345, 608]\n",
      "Pattern found at row  54 at the following index/indexes  [0, 114, 236, 434, 520, 631]\n",
      "Pattern found at row  56 at the following index/indexes  [313, 571]\n",
      "Pattern found at row  57 at the following index/indexes  [340]\n",
      "Pattern found at row  59 at the following index/indexes  [121, 214, 394, 993, 2238, 2919, 3380, 4027, 4228, 4326, 4383]\n",
      "Pattern found at row  60 at the following index/indexes  [66, 185, 2918, 3565]\n",
      "Pattern found at row  61 at the following index/indexes  [11, 334, 391, 684, 779, 1292, 2124, 3066, 3659, 3836]\n",
      "Pattern found at row  62 at the following index/indexes  [133, 303, 564, 612]\n",
      "Pattern found at row  63 at the following index/indexes  [74]\n",
      "Pattern found at row  64 at the following index/indexes  [62, 540, 628]\n",
      "Pattern found at row  65 at the following index/indexes  [173, 300, 549]\n",
      "Pattern found at row  67 at the following index/indexes  [7, 76, 1219, 4001]\n",
      "Pattern found at row  70 at the following index/indexes  [119]\n",
      "Pattern found at row  75 at the following index/indexes  [288, 300, 332, 398, 459, 516, 525]\n",
      "Pattern found at row  76 at the following index/indexes  [19, 35, 87, 104, 134]\n",
      "Pattern found at row  77 at the following index/indexes  [1, 80, 370, 799]\n",
      "Pattern found at row  78 at the following index/indexes  [1, 1271, 1909, 1953, 2080, 2193, 3657]\n",
      "Pattern found at row  79 at the following index/indexes  [74, 133, 211]\n",
      "Pattern found at row  80 at the following index/indexes  [40]\n",
      "Pattern found at row  81 at the following index/indexes  [29, 648]\n",
      "Pattern found at row  82 at the following index/indexes  [20, 92, 343, 582, 673, 774, 943, 963]\n",
      "Pattern found at row  85 at the following index/indexes  [34]\n",
      "Pattern found at row  87 at the following index/indexes  [42]\n",
      "Pattern found at row  88 at the following index/indexes  [50, 89, 346, 484]\n",
      "Pattern found at row  89 at the following index/indexes  [262]\n",
      "Pattern found at row  91 at the following index/indexes  [54, 190]\n",
      "Pattern found at row  96 at the following index/indexes  [9, 60, 202, 246, 339, 470, 503, 1391]\n"
     ]
    }
   ],
   "source": [
    "row = 0\n",
    "for i in range(len(data)):\n",
    "    row = i\n",
    "    matches = KMP(pattern, data['0'][i])\n",
    "    if len(matches) != 0:\n",
    "        print(\"Pattern found at row \",row, \"at the following index/indexes \", matches)\n"
   ]
  },
  {
   "cell_type": "markdown",
   "id": "7cd5f8a2",
   "metadata": {},
   "source": [
    "#### 3.4 Checking Patterns founding Index/Indices Using Naive Algorithm\n",
    "Initializes the variable row to 0. This variable will store the index of each row as the code iterates through the rows of data. Starts a loop over each row in data, where i is the index of the current row. len(data) gives the total number of rows in the data DataFrame.\n",
    "\n",
    "Updates the row variable to the current row index i. This line might seem redundant here, but it sets up row for each iteration in case it’s needed outside the for loop scope.\n",
    "\n",
    "Calls the Naive function (Naive pattern matching algorithm) to find occurrences of the specified pattern in the i-th row of the column named '0' in data. data['0'][i] accesses the value in the column labeled '0' in the i-th row. matches will contain the list of starting indices within the row where pattern was found. If pattern is not found, matches will be an empty list.\n",
    "\n",
    "Checks if matches is non-empty, meaning that at least one match was found in the current row.\n",
    "\n",
    "Prints a message indicating the row where the pattern was found (row) and the indices within the row where it was located (matches). If matches contains multiple indices, they will all be displayed."
   ]
  },
  {
   "cell_type": "code",
   "execution_count": 10,
   "id": "f37ee03c-58ef-4ea6-bd96-925f78845398",
   "metadata": {},
   "outputs": [
    {
     "name": "stdout",
     "output_type": "stream",
     "text": [
      "Pattern found at row  1 at the following index/indexes  [35, 223, 323, 352, 403, 686, 752, 782, 865, 948, 965, 977, 1266, 1283, 1342, 1414]\n",
      "Pattern found at row  3 at the following index/indexes  [11, 87, 850, 885]\n",
      "Pattern found at row  5 at the following index/indexes  [77, 767, 813]\n",
      "Pattern found at row  6 at the following index/indexes  [49, 182, 268, 328]\n",
      "Pattern found at row  7 at the following index/indexes  [87, 234]\n",
      "Pattern found at row  8 at the following index/indexes  [11, 157, 378, 416, 475, 568, 603]\n",
      "Pattern found at row  10 at the following index/indexes  [32, 169, 1678]\n",
      "Pattern found at row  14 at the following index/indexes  [92, 190]\n",
      "Pattern found at row  15 at the following index/indexes  [22, 103, 429, 475, 638]\n",
      "Pattern found at row  16 at the following index/indexes  [150, 791, 824, 861, 889, 905, 946, 1000, 1056]\n",
      "Pattern found at row  17 at the following index/indexes  [67, 323, 340, 426, 475, 605, 696, 744, 772, 801, 819, 830, 872, 925, 981]\n",
      "Pattern found at row  18 at the following index/indexes  [58]\n",
      "Pattern found at row  19 at the following index/indexes  [48, 95]\n",
      "Pattern found at row  20 at the following index/indexes  [48, 95]\n",
      "Pattern found at row  21 at the following index/indexes  [50]\n",
      "Pattern found at row  22 at the following index/indexes  [50]\n",
      "Pattern found at row  23 at the following index/indexes  [40, 185]\n",
      "Pattern found at row  24 at the following index/indexes  [40, 185]\n",
      "Pattern found at row  25 at the following index/indexes  [106]\n",
      "Pattern found at row  26 at the following index/indexes  [607]\n",
      "Pattern found at row  27 at the following index/indexes  [13, 64, 79, 813]\n",
      "Pattern found at row  28 at the following index/indexes  [12, 103, 142, 165, 350, 765, 824]\n",
      "Pattern found at row  29 at the following index/indexes  [148, 305, 681, 740]\n",
      "Pattern found at row  31 at the following index/indexes  [116]\n",
      "Pattern found at row  33 at the following index/indexes  [15, 65, 104, 199, 418, 472, 722, 779]\n",
      "Pattern found at row  34 at the following index/indexes  [158, 205, 433, 531, 741, 1163, 1183, 1331]\n",
      "Pattern found at row  35 at the following index/indexes  [76, 270, 416, 506, 550]\n",
      "Pattern found at row  36 at the following index/indexes  [1, 624, 770]\n",
      "Pattern found at row  37 at the following index/indexes  [1, 39, 118, 135, 653, 784]\n",
      "Pattern found at row  38 at the following index/indexes  [1, 16, 64, 139, 688, 712, 864, 942]\n",
      "Pattern found at row  39 at the following index/indexes  [146, 281, 512, 630, 730]\n",
      "Pattern found at row  40 at the following index/indexes  [36, 130, 713, 832]\n",
      "Pattern found at row  41 at the following index/indexes  [42, 502]\n",
      "Pattern found at row  42 at the following index/indexes  [7, 73, 196, 3145, 3515, 3637, 3957]\n",
      "Pattern found at row  43 at the following index/indexes  [7, 79, 188, 1237, 1604]\n",
      "Pattern found at row  44 at the following index/indexes  [13]\n",
      "Pattern found at row  45 at the following index/indexes  [93]\n",
      "Pattern found at row  48 at the following index/indexes  [246, 1459]\n",
      "Pattern found at row  51 at the following index/indexes  [0, 75, 169, 240, 295, 636]\n",
      "Pattern found at row  52 at the following index/indexes  [0, 45, 124, 614]\n",
      "Pattern found at row  53 at the following index/indexes  [0, 43, 183, 261, 345, 608]\n",
      "Pattern found at row  54 at the following index/indexes  [0, 114, 236, 434, 520, 631]\n",
      "Pattern found at row  56 at the following index/indexes  [313, 571]\n",
      "Pattern found at row  57 at the following index/indexes  [340]\n",
      "Pattern found at row  59 at the following index/indexes  [121, 214, 394, 993, 2238, 2919, 3380, 4027, 4228, 4326, 4383]\n",
      "Pattern found at row  60 at the following index/indexes  [66, 185, 2918, 3565]\n",
      "Pattern found at row  61 at the following index/indexes  [11, 334, 391, 684, 779, 1292, 2124, 3066, 3659, 3836]\n",
      "Pattern found at row  62 at the following index/indexes  [133, 303, 564, 612]\n",
      "Pattern found at row  63 at the following index/indexes  [74]\n",
      "Pattern found at row  64 at the following index/indexes  [62, 540, 628]\n",
      "Pattern found at row  65 at the following index/indexes  [173, 300, 549]\n",
      "Pattern found at row  67 at the following index/indexes  [7, 76, 1219, 4001]\n",
      "Pattern found at row  70 at the following index/indexes  [119]\n",
      "Pattern found at row  75 at the following index/indexes  [288, 300, 332, 398, 459, 516, 525]\n",
      "Pattern found at row  76 at the following index/indexes  [19, 35, 87, 104, 134]\n",
      "Pattern found at row  77 at the following index/indexes  [1, 80, 370, 799]\n",
      "Pattern found at row  78 at the following index/indexes  [1, 1271, 1909, 1953, 2080, 2193, 3657]\n",
      "Pattern found at row  79 at the following index/indexes  [74, 133, 211]\n",
      "Pattern found at row  80 at the following index/indexes  [40]\n",
      "Pattern found at row  81 at the following index/indexes  [29, 648]\n",
      "Pattern found at row  82 at the following index/indexes  [20, 92, 343, 582, 673, 774, 943, 963]\n",
      "Pattern found at row  85 at the following index/indexes  [34]\n",
      "Pattern found at row  87 at the following index/indexes  [42]\n",
      "Pattern found at row  88 at the following index/indexes  [50, 89, 346, 484]\n",
      "Pattern found at row  89 at the following index/indexes  [262]\n",
      "Pattern found at row  91 at the following index/indexes  [54, 190]\n",
      "Pattern found at row  96 at the following index/indexes  [9, 60, 202, 246, 339, 470, 503, 1391]\n"
     ]
    }
   ],
   "source": [
    "row = 0\n",
    "for i in range(len(data)):\n",
    "    row = i\n",
    "    matches = naive_pattern_match(pattern, data['0'][i])\n",
    "    if len(matches) != 0:\n",
    "        print(\"Pattern found at row \",row, \"at the following index/indexes \", matches)\n"
   ]
  },
  {
   "cell_type": "markdown",
   "id": "6fb81d1d-3a77-4ab2-9b6e-ac1e24dc6550",
   "metadata": {},
   "source": [
    "### 4. Measure the performance in terms of time and memory"
   ]
  },
  {
   "cell_type": "code",
   "execution_count": 11,
   "id": "3573a77a",
   "metadata": {},
   "outputs": [],
   "source": [
    "#!pip install memory-profiler\n",
    "# if memory-profiler is not install tou can install by removing hash "
   ]
  },
  {
   "cell_type": "markdown",
   "id": "38696eb4",
   "metadata": {},
   "source": [
    "#### 4.1 Test on KMP algorithm and measure the performance in terms of time and memory"
   ]
  },
  {
   "cell_type": "markdown",
   "id": "04a24833",
   "metadata": {},
   "source": [
    "Defines a function named run_kmp_algorithm. This function is designed to perform the Knuth-Morris-Pratt (KMP) pattern-matching algorithm on a dataset and report the time it takes to execute.\n",
    "\n",
    "Initializes an empty list output that will store the results of each pattern match found in the data. Each match will be recorded as a dictionary with information about the row and match indices.\n",
    "\n",
    "Records the current time (in seconds since the epoch) at the start of the function’s execution. start_time will be used to calculate how long the function takes to execute.\n",
    "\n",
    "Initializes a variable row to 0. This will be used to keep track of the row index during the loop through data.\n",
    "Starts a loop to iterate over each row in the data DataFrame, where i is the current row index.\n",
    "len(data) gives the number of rows in data.\n",
    "Updates the row variable to the current row index i. This records which row the loop is currently processing.\n",
    "\n",
    "Calls the KMP function (Knuth-Morris-Pratt pattern matching algorithm) with pattern and data['0'][i] as inputs.\n",
    "data['0'][i] accesses the value in the column named '0' in the current row i.\n",
    "matches will contain the starting indices where pattern is found in this row’s value. If pattern is not found, matches will be an empty list.\n",
    "\n",
    "Checks if matches is non-empty, which indicates that the pattern was found at least once in the current row.\n",
    "Initializes an empty dictionary kmp_result to store the information for the current row where a pattern match was found.\n",
    "Sets the 'row' key in kmp_result to the value of row, which is the index of the current row in data.\n",
    "Sets the 'match index' key in kmp_result to matches, which contains the list of indices where the pattern was found in the current row.\n",
    "Appends the kmp_result dictionary to the output list, storing the results for this row.\n",
    "\n",
    "Records the current time at the end of the function’s execution. This will be used with start_time to calculate the total execution time.\n",
    "Calculates the total execution time of the function by subtracting start_time from end_time and stores the result in kmp_time.\n",
    "Prints the total execution time kmp_time, which shows how long the function took to run.\n",
    "\n",
    "Converts output, which is a list of dictionaries, into a DataFrame d. Each dictionary in output becomes a row in d, with keys as column names ('row' and 'match index').\n",
    "Prints the DataFrame d, which contains the rows and match indices where the pattern was found in data."
   ]
  },
  {
   "cell_type": "code",
   "execution_count": 12,
   "id": "e9dcc20e-3127-465b-8ce2-7aacaa9a762d",
   "metadata": {},
   "outputs": [],
   "source": [
    "def run_kmp_algorithm():\n",
    "    output = []\n",
    "    start_time = time.time()\n",
    "    row = 0\n",
    "    for i in range(len(data)):\n",
    "        row = i\n",
    "        matches = KMP(pattern, data['0'][i])\n",
    "        if len(matches) != 0:\n",
    "            kmp_result = {}\n",
    "            kmp_result['row'] = row\n",
    "            kmp_result['match index'] = matches \n",
    "            output.append(kmp_result)\n",
    "    end_time = time.time()\n",
    "    kmp_time = end_time - start_time\n",
    "    print(kmp_time) \n",
    "    d = pd.DataFrame(output)\n",
    "    print(d)\n",
    "    # Create a new column that holds the number of matches for each row\n",
    "    d['num_matches'] = d['match index'].apply(len)\n",
    "\n",
    "    # Plot a bar chart to show number of matches per row\n",
    "    plt.figure(figsize=(10, 6))\n",
    "    plt.bar(d['row'], d['num_matches'], color='skyblue')\n",
    "    plt.xlabel('Row')\n",
    "    plt.ylabel('Number of Matches')\n",
    "    plt.title('Number of Matches per Row using KMP Algorithm')\n",
    "    plt.xticks(rotation=90)\n",
    "    plt.show()"
   ]
  },
  {
   "cell_type": "markdown",
   "id": "ee292785",
   "metadata": {},
   "source": [
    "command in Jupyter Notebook used to measure the memory usage of the run_kmp_algorithm() function.\n",
    "\n",
    "The output\n",
    "\n",
    "Peak memory shows the maximum memory usage reached while running run_kmp_algorithm().\n",
    "Increment indicates the memory usage change during the function’s execution."
   ]
  },
  {
   "cell_type": "code",
   "execution_count": 13,
   "id": "1dcdacd6-675d-47f5-b9b7-fbec25290fa1",
   "metadata": {},
   "outputs": [
    {
     "name": "stdout",
     "output_type": "stream",
     "text": [
      "0.04686427116394043\n",
      "    row                                        match index\n",
      "0     1  [35, 223, 323, 352, 403, 686, 752, 782, 865, 9...\n",
      "1     3                                 [11, 87, 850, 885]\n",
      "2     5                                     [77, 767, 813]\n",
      "3     6                                [49, 182, 268, 328]\n",
      "4     7                                          [87, 234]\n",
      "..  ...                                                ...\n",
      "62   87                                               [42]\n",
      "63   88                                 [50, 89, 346, 484]\n",
      "64   89                                              [262]\n",
      "65   91                                          [54, 190]\n",
      "66   96             [9, 60, 202, 246, 339, 470, 503, 1391]\n",
      "\n",
      "[67 rows x 2 columns]\n"
     ]
    },
    {
     "data": {
      "image/png": "[encoded data removed]",
      "text/plain": [
       "<Figure size 1000x600 with 1 Axes>"
      ]
     },
     "metadata": {},
     "output_type": "display_data"
    },
    {
     "name": "stdout",
     "output_type": "stream",
     "text": [
      "peak memory: 157.12 MiB, increment: 10.00 MiB\n"
     ]
    }
   ],
   "source": [
    "%memit run_kmp_algorithm()"
   ]
  },
  {
   "cell_type": "markdown",
   "id": "535c9166-a5d3-4980-b155-c56d7688d7c9",
   "metadata": {},
   "source": [
    "#### 4.2 Test on Naive algorithm and measure the performance in terms of time and memory"
   ]
  },
  {
   "cell_type": "markdown",
   "id": "fea77bdb",
   "metadata": {},
   "source": [
    "Defines a function named run_naive_algorithm. This function is designed to perform the Naive pattern-matching algorithm on a dataset and report the time it takes to execute.\n",
    "\n",
    "Initializes an empty list output that will store the results of each pattern match found in the data. Each match will be recorded as a dictionary with information about the row and match indices.\n",
    "\n",
    "Records the current time (in seconds since the epoch) at the start of the function’s execution. start_time will be used to calculate how long the function takes to execute.\n",
    "\n",
    "Initializes a variable row to 0. This will be used to keep track of the row index during the loop through data.\n",
    "Starts a loop to iterate over each row in the data DataFrame, where i is the current row index.\n",
    "len(data) gives the number of rows in data.\n",
    "Updates the row variable to the current row index i. This records which row the loop is currently processing.\n",
    "\n",
    "Calls the naive function (Naive pattern matching algorithm) with pattern and data['0'][i] as inputs.\n",
    "data['0'][i] accesses the value in the column named '0' in the current row i.\n",
    "matches will contain the starting indices where pattern is found in this row’s value. If pattern is not found, matches will be an empty list.\n",
    "\n",
    "Checks if matches is non-empty, which indicates that the pattern was found at least once in the current row.\n",
    "Initializes an empty dictionary kmp_result to store the information for the current row where a pattern match was found.\n",
    "Sets the 'row' key in kmp_result to the value of row, which is the index of the current row in data.\n",
    "Sets the 'match index' key in kmp_result to matches, which contains the list of indices where the pattern was found in the current row.\n",
    "Appends the kmp_result dictionary to the output list, storing the results for this row.\n",
    "\n",
    "Records the current time at the end of the function’s execution. This will be used with start_time to calculate the total execution time.\n",
    "Calculates the total execution time of the function by subtracting start_time from end_time and stores the result in kmp_time.\n",
    "Prints the total execution time kmp_time, which shows how long the function took to run.\n",
    "\n",
    "Converts output, which is a list of dictionaries, into a DataFrame d. Each dictionary in output becomes a row in d, with keys as column names ('row' and 'match index').\n",
    "Prints the DataFrame d, which contains the rows and match indices where the pattern was found in data."
   ]
  },
  {
   "cell_type": "code",
   "execution_count": 14,
   "id": "eca79e28-7d00-4874-8fe2-b8cb31c37623",
   "metadata": {},
   "outputs": [],
   "source": [
    "def run_naive_algorithm():\n",
    "    output = []\n",
    "    start_time = time.time()\n",
    "    row = 0\n",
    "    for i in range(len(data)):\n",
    "        row = i\n",
    "        matches = naive_pattern_match(pattern, data['0'][i])\n",
    "        if len(matches) != 0:\n",
    "            naive_result = {}\n",
    "            naive_result['row'] = row\n",
    "            naive_result['match index'] = matches \n",
    "            output.append(naive_result)    \n",
    "    end_time = time.time()\n",
    "    naive_time = end_time - start_time\n",
    "    print(naive_time)\n",
    "    d = pd.DataFrame(output)\n",
    "    print(d)\n",
    "    # Create a new column that holds the number of matches for each row\n",
    "    d['num_matches'] = d['match index'].apply(len)\n",
    "\n",
    "    # Plot a bar chart to show number of matches per row\n",
    "    plt.figure(figsize=(10, 6))\n",
    "    plt.bar(d['row'], d['num_matches'], color='skyblue')\n",
    "    plt.xlabel('Row')\n",
    "    plt.ylabel('Number of Matches')\n",
    "    plt.title('Number of Matches per Row using Naive Algorithm')\n",
    "    plt.xticks(rotation=90)\n",
    "    plt.show()"
   ]
  },
  {
   "cell_type": "markdown",
   "id": "e6c10077",
   "metadata": {},
   "source": [
    "command in Jupyter Notebook used to measure the memory usage of the run_naive_algorithm() function.\n",
    "\n",
    "The output\n",
    "\n",
    "Peak memory shows the maximum memory usage reached while running run_naive_algorithm().\n",
    "Increment indicates the memory usage change during the function’s execution."
   ]
  },
  {
   "cell_type": "code",
   "execution_count": 15,
   "id": "4f64ab27-122b-41b5-beb8-91e6927d9364",
   "metadata": {},
   "outputs": [
    {
     "name": "stdout",
     "output_type": "stream",
     "text": [
      "0.021423816680908203\n",
      "    row                                        match index\n",
      "0     1  [35, 223, 323, 352, 403, 686, 752, 782, 865, 9...\n",
      "1     3                                 [11, 87, 850, 885]\n",
      "2     5                                     [77, 767, 813]\n",
      "3     6                                [49, 182, 268, 328]\n",
      "4     7                                          [87, 234]\n",
      "..  ...                                                ...\n",
      "62   87                                               [42]\n",
      "63   88                                 [50, 89, 346, 484]\n",
      "64   89                                              [262]\n",
      "65   91                                          [54, 190]\n",
      "66   96             [9, 60, 202, 246, 339, 470, 503, 1391]\n",
      "\n",
      "[67 rows x 2 columns]\n"
     ]
    },
    {
     "data": {
      "image/png": "[encoded data removed]",
      "text/plain": [
       "<Figure size 1000x600 with 1 Axes>"
      ]
     },
     "metadata": {},
     "output_type": "display_data"
    },
    {
     "name": "stdout",
     "output_type": "stream",
     "text": [
      "peak memory: 154.07 MiB, increment: 2.32 MiB\n"
     ]
    }
   ],
   "source": [
    "%memit run_naive_algorithm()"
   ]
  },
  {
   "cell_type": "markdown",
   "id": "b5f59f0b-ef5b-4d85-930c-c76d160bc6d0",
   "metadata": {},
   "source": [
    "#### Discussion"
   ]
  },
  {
   "cell_type": "markdown",
   "id": "ce137dbc-2bd8-4d7e-a6b6-fd6c00f3d933",
   "metadata": {},
   "source": [
    "As we see in the previous outputs, there is no difference in their output. but, in memory consumption there is a difference (157.12 MiB, increment: 10.00 MiB on KMP and 154.07 MiB, increment: 2.32 MiB on Naive algorithm with minimum increament compared with KMP and lower memory usage compared with KMP), and also there is difference in the computing time. By the time of the code run, the kmp algorithm has taken about 0.04686427116394043 seconds and the naive algorithm takes 0.021423816680908203 seconds to search for the pattern in the rows of the given data. the gap might become big when the size of the data grows up. to check on this, we have to increase the amount of data to search the pattern from."
   ]
  },
  {
   "cell_type": "markdown",
   "id": "438b5e6a-6646-4dab-8c22-36b0e2329cc1",
   "metadata": {},
   "source": []
  },
  {
   "cell_type": "code",
   "execution_count": null,
   "id": "b4bf22b4-7ac9-49f2-95c9-befaca6836a4",
   "metadata": {},
   "outputs": [],
   "source": []
  }
 ],
 "metadata": {
  "kernelspec": {
   "display_name": "Python 3 (ipykernel)",
   "language": "python",
   "name": "python3"
  },
  "language_info": {
   "codemirror_mode": {
    "name": "ipython",
    "version": 3
   },
   "file_extension": ".py",
   "mimetype": "text/x-python",
   "name": "python",
   "nbconvert_exporter": "python",
   "pygments_lexer": "ipython3",
   "version": "3.11.7"
  }
 },
 "nbformat": 4,
 "nbformat_minor": 5
}
